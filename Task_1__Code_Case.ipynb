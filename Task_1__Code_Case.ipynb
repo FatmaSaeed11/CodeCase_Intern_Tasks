{
  "nbformat": 4,
  "nbformat_minor": 0,
  "metadata": {
    "colab": {
      "provenance": []
    },
    "kernelspec": {
      "name": "python3",
      "display_name": "Python 3"
    },
    "language_info": {
      "name": "python"
    }
  },
  "cells": [
    {
      "cell_type": "markdown",
      "source": [
        "\n",
        "Stock Price Prediction\n",
        "\n"
      ],
      "metadata": {
        "id": "D4s8iXf0fgBK"
      }
    },
    {
      "cell_type": "code",
      "execution_count": 47,
      "metadata": {
        "id": "4OAQf4YsfI-C"
      },
      "outputs": [],
      "source": [
        "#import libraries\n",
        "import pandas as pd\n",
        "import numpy as np\n",
        "import matplotlib.pyplot as plt\n",
        "import yfinance as yf"
      ]
    },
    {
      "cell_type": "markdown",
      "source": [],
      "metadata": {
        "id": "S3fd6izgfeo2"
      }
    },
    {
      "cell_type": "code",
      "source": [
        "#load data\n",
        "dataset = yf.download('AAPL', start='2019-11-01', end='2023-10-28')\n"
      ],
      "metadata": {
        "colab": {
          "base_uri": "https://localhost:8080/"
        },
        "id": "7QbYinIBgwUy",
        "outputId": "d13b18f7-dda6-4a31-d788-7f5563970401"
      },
      "execution_count": 13,
      "outputs": [
        {
          "output_type": "stream",
          "name": "stdout",
          "text": [
            "\r[*********************100%%**********************]  1 of 1 completed\n"
          ]
        }
      ]
    },
    {
      "cell_type": "code",
      "source": [
        "#print data file\n",
        "\n",
        "print(dataset)"
      ],
      "metadata": {
        "colab": {
          "base_uri": "https://localhost:8080/"
        },
        "id": "LQe9xcJuhN84",
        "outputId": "e18ef182-a711-4735-9d0e-a5a2bac10a63"
      },
      "execution_count": 14,
      "outputs": [
        {
          "output_type": "stream",
          "name": "stdout",
          "text": [
            "                  Open        High         Low       Close   Adj Close  \\\n",
            "Date                                                                     \n",
            "2019-11-01   62.384998   63.982498   62.290001   63.955002   62.202354   \n",
            "2019-11-04   64.332497   64.462502   63.845001   64.375000   62.610840   \n",
            "2019-11-05   64.262497   64.547501   64.080002   64.282501   62.520878   \n",
            "2019-11-06   64.192497   64.372498   63.842499   64.309998   62.547619   \n",
            "2019-11-07   64.684998   65.087502   64.527496   64.857498   63.269501   \n",
            "...                ...         ...         ...         ...         ...   \n",
            "2023-10-23  170.910004  174.009995  169.929993  173.000000  173.000000   \n",
            "2023-10-24  173.050003  173.669998  171.449997  173.440002  173.440002   \n",
            "2023-10-25  171.880005  173.059998  170.649994  171.100006  171.100006   \n",
            "2023-10-26  170.369995  171.380005  165.669998  166.889999  166.889999   \n",
            "2023-10-27  166.910004  168.960007  166.830002  168.220001  168.220001   \n",
            "\n",
            "               Volume  \n",
            "Date                   \n",
            "2019-11-01  151125200  \n",
            "2019-11-04  103272000  \n",
            "2019-11-05   79897600  \n",
            "2019-11-06   75864400  \n",
            "2019-11-07   94940400  \n",
            "...               ...  \n",
            "2023-10-23   55980100  \n",
            "2023-10-24   43816600  \n",
            "2023-10-25   57157000  \n",
            "2023-10-26   70625300  \n",
            "2023-10-27   58468600  \n",
            "\n",
            "[1004 rows x 6 columns]\n"
          ]
        }
      ]
    },
    {
      "cell_type": "code",
      "source": [
        "# make independent variable\n",
        "dataset['High-Low']=dataset['High']-dataset['Low']\n",
        "dataset['Open-Close']=dataset['Open']-dataset['Close']\n"
      ],
      "metadata": {
        "id": "T9mpfCUouMUf"
      },
      "execution_count": 16,
      "outputs": []
    },
    {
      "cell_type": "code",
      "source": [
        "#store independent variables\n",
        "x=dataset[['Open-Close','High-Low','Close']]"
      ],
      "metadata": {
        "id": "EJQeeVA5-qGj"
      },
      "execution_count": 26,
      "outputs": []
    },
    {
      "cell_type": "code",
      "source": [
        "print(x)"
      ],
      "metadata": {
        "colab": {
          "base_uri": "https://localhost:8080/"
        },
        "id": "J0Cupwty_Sc0",
        "outputId": "1564d55b-e272-4a8b-add5-9db17a210b65"
      },
      "execution_count": 27,
      "outputs": [
        {
          "output_type": "stream",
          "name": "stdout",
          "text": [
            "            Open-Close  High-Low       Close\n",
            "Date                                        \n",
            "2019-11-01   -1.570004  1.692497   63.955002\n",
            "2019-11-04   -0.042503  0.617500   64.375000\n",
            "2019-11-05   -0.020004  0.467499   64.282501\n",
            "2019-11-06   -0.117500  0.529999   64.309998\n",
            "2019-11-07   -0.172501  0.560005   64.857498\n",
            "...                ...       ...         ...\n",
            "2023-10-23   -2.089996  4.080002  173.000000\n",
            "2023-10-24   -0.389999  2.220001  173.440002\n",
            "2023-10-25    0.779999  2.410004  171.100006\n",
            "2023-10-26    3.479996  5.710007  166.889999\n",
            "2023-10-27   -1.309998  2.130005  168.220001\n",
            "\n",
            "[1004 rows x 3 columns]\n"
          ]
        }
      ]
    },
    {
      "cell_type": "code",
      "source": [
        "#store target variable\n",
        "y=np.where(dataset.Close.shift(-1) > dataset.Close , 1, 0)\n"
      ],
      "metadata": {
        "id": "fKVgZgS9_Wrx"
      },
      "execution_count": 23,
      "outputs": []
    },
    {
      "cell_type": "code",
      "source": [
        "print(y)"
      ],
      "metadata": {
        "colab": {
          "base_uri": "https://localhost:8080/"
        },
        "id": "v3q-IBGyFFZe",
        "outputId": "0a52462b-7866-41e8-a530-2b28e2e5c126"
      },
      "execution_count": 24,
      "outputs": [
        {
          "output_type": "stream",
          "name": "stdout",
          "text": [
            "[1 0 1 ... 0 1 0]\n"
          ]
        }
      ]
    },
    {
      "cell_type": "code",
      "source": [
        "#persentage to split data\n",
        "persentage_split=0.9\n",
        "row=int(dataset.shape[0]*persentage_split)\n",
        "\n",
        "#train\n",
        "x_train=x[:row]\n",
        "y_train=y[:row]\n",
        "\n",
        "#test\n",
        "x_test=x[row:]\n",
        "y_test=y[row:]"
      ],
      "metadata": {
        "id": "6RWKu-pbFMWS"
      },
      "execution_count": 28,
      "outputs": []
    },
    {
      "cell_type": "code",
      "source": [
        "print(x)"
      ],
      "metadata": {
        "colab": {
          "base_uri": "https://localhost:8080/"
        },
        "id": "wngPgdAQ_ab2",
        "outputId": "9ebee690-00f9-4eb6-f133-b936333a3c69"
      },
      "execution_count": 29,
      "outputs": [
        {
          "output_type": "stream",
          "name": "stdout",
          "text": [
            "            Open-Close  High-Low       Close\n",
            "Date                                        \n",
            "2019-11-01   -1.570004  1.692497   63.955002\n",
            "2019-11-04   -0.042503  0.617500   64.375000\n",
            "2019-11-05   -0.020004  0.467499   64.282501\n",
            "2019-11-06   -0.117500  0.529999   64.309998\n",
            "2019-11-07   -0.172501  0.560005   64.857498\n",
            "...                ...       ...         ...\n",
            "2023-10-23   -2.089996  4.080002  173.000000\n",
            "2023-10-24   -0.389999  2.220001  173.440002\n",
            "2023-10-25    0.779999  2.410004  171.100006\n",
            "2023-10-26    3.479996  5.710007  166.889999\n",
            "2023-10-27   -1.309998  2.130005  168.220001\n",
            "\n",
            "[1004 rows x 3 columns]\n"
          ]
        }
      ]
    },
    {
      "cell_type": "code",
      "source": [
        "print(x_train)\n"
      ],
      "metadata": {
        "colab": {
          "base_uri": "https://localhost:8080/"
        },
        "id": "aZOMOgIp_r0x",
        "outputId": "ba80d5d1-4b1a-426c-c17b-e94ff4860a73"
      },
      "execution_count": 30,
      "outputs": [
        {
          "output_type": "stream",
          "name": "stdout",
          "text": [
            "            Open-Close  High-Low       Close\n",
            "Date                                        \n",
            "2019-11-01   -1.570004  1.692497   63.955002\n",
            "2019-11-04   -0.042503  0.617500   64.375000\n",
            "2019-11-05   -0.020004  0.467499   64.282501\n",
            "2019-11-06   -0.117500  0.529999   64.309998\n",
            "2019-11-07   -0.172501  0.560005   64.857498\n",
            "...                ...       ...         ...\n",
            "2023-05-30   -0.339996  2.419998  177.300003\n",
            "2023-05-31    0.080002  2.590012  177.250000\n",
            "2023-06-01   -2.389999  3.190002  180.089996\n",
            "2023-06-02    0.080002  2.520004  180.949997\n",
            "2023-06-05    3.050003  6.910004  179.580002\n",
            "\n",
            "[903 rows x 3 columns]\n"
          ]
        }
      ]
    },
    {
      "cell_type": "code",
      "source": [
        "print(x_test)\n"
      ],
      "metadata": {
        "colab": {
          "base_uri": "https://localhost:8080/"
        },
        "id": "EknrM_Ed_zOf",
        "outputId": "35e0d0a1-927e-4500-c309-71faefb7bbde"
      },
      "execution_count": 31,
      "outputs": [
        {
          "output_type": "stream",
          "name": "stdout",
          "text": [
            "            Open-Close  High-Low       Close\n",
            "Date                                        \n",
            "2023-06-06    0.759995  2.690002  179.210007\n",
            "2023-06-07    0.619995  3.889999  177.820007\n",
            "2023-06-08   -2.670013  3.379990  180.570007\n",
            "2023-06-09    0.539993  1.599991  180.960007\n",
            "2023-06-12   -2.519989  2.919998  183.789993\n",
            "...                ...       ...         ...\n",
            "2023-10-23   -2.089996  4.080002  173.000000\n",
            "2023-10-24   -0.389999  2.220001  173.440002\n",
            "2023-10-25    0.779999  2.410004  171.100006\n",
            "2023-10-26    3.479996  5.710007  166.889999\n",
            "2023-10-27   -1.309998  2.130005  168.220001\n",
            "\n",
            "[101 rows x 3 columns]\n"
          ]
        }
      ]
    },
    {
      "cell_type": "code",
      "source": [
        "#build our model\n",
        "\n",
        "!pip install sklearn\n",
        "from sklearn.svm import SVC\n",
        "model=SVC()\n",
        "model.fit(x_train[['Open-Close','High-Low']], y_train)"
      ],
      "metadata": {
        "id": "zhuBJzW7_3H9"
      },
      "execution_count": null,
      "outputs": []
    },
    {
      "cell_type": "code",
      "source": [
        "# score train\n",
        "model.score(x_train[['Open-Close','High-Low']], y_train)"
      ],
      "metadata": {
        "colab": {
          "base_uri": "https://localhost:8080/"
        },
        "id": "-JEW1ZOq_-T2",
        "outputId": "b0dee907-dfad-4d32-d783-bf4f1b134990"
      },
      "execution_count": 33,
      "outputs": [
        {
          "output_type": "execute_result",
          "data": {
            "text/plain": [
              "0.5415282392026578"
            ]
          },
          "metadata": {},
          "execution_count": 33
        }
      ]
    },
    {
      "cell_type": "code",
      "source": [
        "#score test\n",
        "model.score(x_test[['Open-Close','High-Low']], y_test)"
      ],
      "metadata": {
        "colab": {
          "base_uri": "https://localhost:8080/"
        },
        "id": "bj6tHDofAHMk",
        "outputId": "3a251b11-4b2e-4e1e-c6ca-b460cd1ed27a"
      },
      "execution_count": 34,
      "outputs": [
        {
          "output_type": "execute_result",
          "data": {
            "text/plain": [
              "0.5148514851485149"
            ]
          },
          "metadata": {},
          "execution_count": 34
        }
      ]
    },
    {
      "cell_type": "code",
      "source": [
        "# prediction\n",
        "dataset['predictions']=model.predict(x[['Open-Close','High-Low']])\n",
        "print(dataset['predictions'])"
      ],
      "metadata": {
        "colab": {
          "base_uri": "https://localhost:8080/"
        },
        "id": "WkCmDHpEAIBl",
        "outputId": "d0c728fe-6a6e-4ecf-ba33-c233b6997b63"
      },
      "execution_count": 35,
      "outputs": [
        {
          "output_type": "stream",
          "name": "stdout",
          "text": [
            "Date\n",
            "2019-11-01    1\n",
            "2019-11-04    1\n",
            "2019-11-05    1\n",
            "2019-11-06    1\n",
            "2019-11-07    1\n",
            "             ..\n",
            "2023-10-23    1\n",
            "2023-10-24    1\n",
            "2023-10-25    1\n",
            "2023-10-26    1\n",
            "2023-10-27    1\n",
            "Name: predictions, Length: 1004, dtype: int64\n"
          ]
        }
      ]
    },
    {
      "cell_type": "code",
      "source": [
        "#todays inputs\n",
        "dataset['In']=dataset['Close'].pct_change(1)\n",
        "print(dataset['In'])"
      ],
      "metadata": {
        "colab": {
          "base_uri": "https://localhost:8080/"
        },
        "id": "GQcDcER6AL8-",
        "outputId": "658aef54-f0f1-49dd-8424-53a02e6a7347"
      },
      "execution_count": 36,
      "outputs": [
        {
          "output_type": "stream",
          "name": "stdout",
          "text": [
            "Date\n",
            "2019-11-01         NaN\n",
            "2019-11-04    0.006567\n",
            "2019-11-05   -0.001437\n",
            "2019-11-06    0.000428\n",
            "2019-11-07    0.008513\n",
            "                ...   \n",
            "2023-10-23    0.000694\n",
            "2023-10-24    0.002543\n",
            "2023-10-25   -0.013492\n",
            "2023-10-26   -0.024606\n",
            "2023-10-27    0.007969\n",
            "Name: In, Length: 1004, dtype: float64\n"
          ]
        }
      ]
    },
    {
      "cell_type": "code",
      "source": [
        "#tomorrow inputs\n",
        "dataset['Tomorrow']=dataset['predictions'].shift(1)*dataset['In']\n",
        "print(dataset['Tomorrow'])"
      ],
      "metadata": {
        "colab": {
          "base_uri": "https://localhost:8080/"
        },
        "id": "PlHjvxx8AQOG",
        "outputId": "1b403a18-0cab-4876-a38c-69f35688e7aa"
      },
      "execution_count": 37,
      "outputs": [
        {
          "output_type": "stream",
          "name": "stdout",
          "text": [
            "Date\n",
            "2019-11-01         NaN\n",
            "2019-11-04    0.006567\n",
            "2019-11-05   -0.001437\n",
            "2019-11-06    0.000428\n",
            "2019-11-07    0.008513\n",
            "                ...   \n",
            "2023-10-23    0.000694\n",
            "2023-10-24    0.002543\n",
            "2023-10-25   -0.013492\n",
            "2023-10-26   -0.024606\n",
            "2023-10-27    0.007969\n",
            "Name: Tomorrow, Length: 1004, dtype: float64\n"
          ]
        }
      ]
    },
    {
      "cell_type": "code",
      "source": [
        "# sum today\n",
        "dataset['sum_In_data']=dataset['In'].cumsum()\n",
        "# sum tomorrow\n",
        "dataset['sum_Tomorrow_data']=dataset['Tomorrow'].cumsum()\n"
      ],
      "metadata": {
        "id": "iWVwWq68AUTA"
      },
      "execution_count": 38,
      "outputs": []
    },
    {
      "cell_type": "code",
      "source": [
        "#plotting\n",
        "plt.figure(figsize=(10,8))\n",
        "plt.title('Inputs')\n",
        "plt.plot(dataset['sum_In_data'],color='blue',label='Today Returns')\n",
        "plt.plot(dataset['sum_Tomorrow_data'],color='red',label='Tomorrow Returns')\n",
        "plt.xticks(rotation = 45)\n",
        "plt.legend()\n",
        "plt.show()"
      ],
      "metadata": {
        "colab": {
          "base_uri": "https://localhost:8080/",
          "height": 735
        },
        "id": "_Ijk_JG_AYVq",
        "outputId": "9cc48898-2e74-4c37-d3dd-f8d0c1c41229"
      },
      "execution_count": 45,
      "outputs": [
        {
          "output_type": "display_data",
          "data": {
            "text/plain": [
              "<Figure size 1000x800 with 1 Axes>"
            ],
            "image/png": "[encoded data removed]"
          },
          "metadata": {}
        }
      ]
    }
  ]
}